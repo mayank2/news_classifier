{
  "nbformat": 4,
  "nbformat_minor": 0,
  "metadata": {
    "colab": {
      "name": "Greendeck_Assignment(1)(1).ipynb",
      "version": "0.3.2",
      "provenance": []
    },
    "kernelspec": {
      "name": "python3",
      "display_name": "Python 3"
    },
    "accelerator": "GPU"
  },
  "cells": [
    {
      "metadata": {
        "id": "dKKjSYyllg00",
        "colab_type": "text"
      },
      "cell_type": "markdown",
      "source": [
        "Built an ML model based on** Bidirectional LSTM**(i.e it runs from both forward and backward) which can classify news categories based on their headlines and short description with an accuracy of 96.3%"
      ]
    },
    {
      "metadata": {
        "id": "yAxtUs2mAzZf",
        "colab_type": "code",
        "outputId": "cc7c7c0b-37ce-401a-83ac-bf5f4af52abf",
        "colab": {
          "base_uri": "https://localhost:8080/",
          "height": 237
        }
      },
      "cell_type": "code",
      "source": [
        "#downloading the provided data.\n",
        "!wget --header 'Host: uc7cdc05a7ae86d54cfe46a9baeb.dl.dropboxusercontent.com' --user-agent 'Mozilla/5.0 (Windows NT 10.0; Win64; x64; rv:63.0) Gecko/20100101 Firefox/63.0' --header 'Accept: text/html,application/xhtml+xml,application/xml;q=0.9,*/*;q=0.8' --header 'Accept-Language: en-US,en;q=0.5' --referer 'https://www.dropbox.com/' --header 'Upgrade-Insecure-Requests: 1' 'https://uc7cdc05a7ae86d54cfe46a9baeb.dl.dropboxusercontent.com/cd/0/get/AWrcJ4c1Aqo053er_z9yvy5felaDPPLAM_zabPxPuA9Ryhl6v6yyxeCUZmDkyzevMYqScVZQd8o_vF84crp-B5TBAMX7hM98p5_8PZTjWSiZKYZLwuoY3rBR-WLmqJz24ROAhy8A4b2_QKh3AmZs6pjhkbzarGkhHasGV1vBsKd624HZBHzp0F8c68h7nLSyyoE/file?_download_id=318445102638265067571401335412091071113788304135886504837256155&_notify_domain=www.dropbox.com&dl=1' --output-document 'News_Category_Dataset.json.zip'"
      ],
      "execution_count": 0,
      "outputs": [
        {
          "output_type": "stream",
          "text": [
            "--2018-12-01 08:11:22--  https://uc7cdc05a7ae86d54cfe46a9baeb.dl.dropboxusercontent.com/cd/0/get/AWrcJ4c1Aqo053er_z9yvy5felaDPPLAM_zabPxPuA9Ryhl6v6yyxeCUZmDkyzevMYqScVZQd8o_vF84crp-B5TBAMX7hM98p5_8PZTjWSiZKYZLwuoY3rBR-WLmqJz24ROAhy8A4b2_QKh3AmZs6pjhkbzarGkhHasGV1vBsKd624HZBHzp0F8c68h7nLSyyoE/file?_download_id=318445102638265067571401335412091071113788304135886504837256155&_notify_domain=www.dropbox.com&dl=1\n",
            "Resolving uc7cdc05a7ae86d54cfe46a9baeb.dl.dropboxusercontent.com (uc7cdc05a7ae86d54cfe46a9baeb.dl.dropboxusercontent.com)... 162.125.8.6, 2620:100:601b:6::a27d:806\n",
            "Connecting to uc7cdc05a7ae86d54cfe46a9baeb.dl.dropboxusercontent.com (uc7cdc05a7ae86d54cfe46a9baeb.dl.dropboxusercontent.com)|162.125.8.6|:443... connected.\n",
            "HTTP request sent, awaiting response... 200 OK\n",
            "Length: 15551444 (15M) [application/binary]\n",
            "Saving to: ‘News_Category_Dataset.json.zip’\n",
            "\n",
            "News_Category_Datas 100%[===================>]  14.83M  53.2MB/s    in 0.3s    \n",
            "\n",
            "2018-12-01 08:11:23 (53.2 MB/s) - ‘News_Category_Dataset.json.zip’ saved [15551444/15551444]\n",
            "\n"
          ],
          "name": "stdout"
        }
      ]
    },
    {
      "metadata": {
        "id": "joMjCcRIFjm9",
        "colab_type": "code",
        "outputId": "4b7d49a5-2943-4ab2-a6d5-6c997622f33c",
        "colab": {
          "base_uri": "https://localhost:8080/",
          "height": 35
        }
      },
      "cell_type": "code",
      "source": [
        "!ls"
      ],
      "execution_count": 0,
      "outputs": [
        {
          "output_type": "stream",
          "text": [
            "News_Category_Dataset.json  News_Category_Dataset.json.zip  sample_data\n"
          ],
          "name": "stdout"
        }
      ]
    },
    {
      "metadata": {
        "id": "4gADsR3aA0_V",
        "colab_type": "code",
        "outputId": "30fb3a80-0c3a-43d9-ca82-778d15f5f7be",
        "colab": {
          "base_uri": "https://localhost:8080/",
          "height": 53
        }
      },
      "cell_type": "code",
      "source": [
        "#extracting the zip file\n",
        "!unzip News_Category_Dataset.json.zip"
      ],
      "execution_count": 0,
      "outputs": [
        {
          "output_type": "stream",
          "text": [
            "Archive:  News_Category_Dataset.json.zip\n",
            "  inflating: News_Category_Dataset.json  \n"
          ],
          "name": "stdout"
        }
      ]
    },
    {
      "metadata": {
        "id": "Qjuzfu0iA3DI",
        "colab_type": "code",
        "colab": {}
      },
      "cell_type": "code",
      "source": [
        "#importing basic libraries\n",
        "import pandas as pd\n",
        "import numpy as np\n",
        "import matplotlib.pyplot as plt"
      ],
      "execution_count": 0,
      "outputs": []
    },
    {
      "metadata": {
        "id": "ANZM8KYXA94j",
        "colab_type": "code",
        "colab": {}
      },
      "cell_type": "code",
      "source": [
        "df = pd.read_json('News_Category_Dataset.json', lines = True)"
      ],
      "execution_count": 0,
      "outputs": []
    },
    {
      "metadata": {
        "id": "-snVemkzBCgJ",
        "colab_type": "code",
        "outputId": "c6c97fd3-79c2-4701-b0e0-efedbd5115a9",
        "colab": {
          "base_uri": "https://localhost:8080/",
          "height": 206
        }
      },
      "cell_type": "code",
      "source": [
        "df.head()"
      ],
      "execution_count": 0,
      "outputs": [
        {
          "output_type": "execute_result",
          "data": {
            "text/html": [
              "<div>\n",
              "<style scoped>\n",
              "    .dataframe tbody tr th:only-of-type {\n",
              "        vertical-align: middle;\n",
              "    }\n",
              "\n",
              "    .dataframe tbody tr th {\n",
              "        vertical-align: top;\n",
              "    }\n",
              "\n",
              "    .dataframe thead th {\n",
              "        text-align: right;\n",
              "    }\n",
              "</style>\n",
              "<table border=\"1\" class=\"dataframe\">\n",
              "  <thead>\n",
              "    <tr style=\"text-align: right;\">\n",
              "      <th></th>\n",
              "      <th>authors</th>\n",
              "      <th>category</th>\n",
              "      <th>date</th>\n",
              "      <th>headline</th>\n",
              "      <th>link</th>\n",
              "      <th>short_description</th>\n",
              "    </tr>\n",
              "  </thead>\n",
              "  <tbody>\n",
              "    <tr>\n",
              "      <th>0</th>\n",
              "      <td>Melissa Jeltsen</td>\n",
              "      <td>CRIME</td>\n",
              "      <td>2018-05-26</td>\n",
              "      <td>There Were 2 Mass Shootings In Texas Last Week...</td>\n",
              "      <td>https://www.huffingtonpost.com/entry/texas-ama...</td>\n",
              "      <td>She left her husband. He killed their children...</td>\n",
              "    </tr>\n",
              "    <tr>\n",
              "      <th>1</th>\n",
              "      <td>Andy McDonald</td>\n",
              "      <td>ENTERTAINMENT</td>\n",
              "      <td>2018-05-26</td>\n",
              "      <td>Will Smith Joins Diplo And Nicky Jam For The 2...</td>\n",
              "      <td>https://www.huffingtonpost.com/entry/will-smit...</td>\n",
              "      <td>Of course it has a song.</td>\n",
              "    </tr>\n",
              "    <tr>\n",
              "      <th>2</th>\n",
              "      <td>Ron Dicker</td>\n",
              "      <td>ENTERTAINMENT</td>\n",
              "      <td>2018-05-26</td>\n",
              "      <td>Hugh Grant Marries For The First Time At Age 57</td>\n",
              "      <td>https://www.huffingtonpost.com/entry/hugh-gran...</td>\n",
              "      <td>The actor and his longtime girlfriend Anna Ebe...</td>\n",
              "    </tr>\n",
              "    <tr>\n",
              "      <th>3</th>\n",
              "      <td>Ron Dicker</td>\n",
              "      <td>ENTERTAINMENT</td>\n",
              "      <td>2018-05-26</td>\n",
              "      <td>Jim Carrey Blasts 'Castrato' Adam Schiff And D...</td>\n",
              "      <td>https://www.huffingtonpost.com/entry/jim-carre...</td>\n",
              "      <td>The actor gives Dems an ass-kicking for not fi...</td>\n",
              "    </tr>\n",
              "    <tr>\n",
              "      <th>4</th>\n",
              "      <td>Ron Dicker</td>\n",
              "      <td>ENTERTAINMENT</td>\n",
              "      <td>2018-05-26</td>\n",
              "      <td>Julianna Margulies Uses Donald Trump Poop Bags...</td>\n",
              "      <td>https://www.huffingtonpost.com/entry/julianna-...</td>\n",
              "      <td>The \"Dietland\" actress said using the bags is ...</td>\n",
              "    </tr>\n",
              "  </tbody>\n",
              "</table>\n",
              "</div>"
            ],
            "text/plain": [
              "           authors       category       date  \\\n",
              "0  Melissa Jeltsen          CRIME 2018-05-26   \n",
              "1    Andy McDonald  ENTERTAINMENT 2018-05-26   \n",
              "2       Ron Dicker  ENTERTAINMENT 2018-05-26   \n",
              "3       Ron Dicker  ENTERTAINMENT 2018-05-26   \n",
              "4       Ron Dicker  ENTERTAINMENT 2018-05-26   \n",
              "\n",
              "                                            headline  \\\n",
              "0  There Were 2 Mass Shootings In Texas Last Week...   \n",
              "1  Will Smith Joins Diplo And Nicky Jam For The 2...   \n",
              "2    Hugh Grant Marries For The First Time At Age 57   \n",
              "3  Jim Carrey Blasts 'Castrato' Adam Schiff And D...   \n",
              "4  Julianna Margulies Uses Donald Trump Poop Bags...   \n",
              "\n",
              "                                                link  \\\n",
              "0  https://www.huffingtonpost.com/entry/texas-ama...   \n",
              "1  https://www.huffingtonpost.com/entry/will-smit...   \n",
              "2  https://www.huffingtonpost.com/entry/hugh-gran...   \n",
              "3  https://www.huffingtonpost.com/entry/jim-carre...   \n",
              "4  https://www.huffingtonpost.com/entry/julianna-...   \n",
              "\n",
              "                                   short_description  \n",
              "0  She left her husband. He killed their children...  \n",
              "1                           Of course it has a song.  \n",
              "2  The actor and his longtime girlfriend Anna Ebe...  \n",
              "3  The actor gives Dems an ass-kicking for not fi...  \n",
              "4  The \"Dietland\" actress said using the bags is ...  "
            ]
          },
          "metadata": {
            "tags": []
          },
          "execution_count": 6
        }
      ]
    },
    {
      "metadata": {
        "id": "8O9n1i1ghfV4",
        "colab_type": "text"
      },
      "cell_type": "markdown",
      "source": [
        "Combining the headline and short_description as a same text for training."
      ]
    },
    {
      "metadata": {
        "id": "ibsXaHMGBEE1",
        "colab_type": "code",
        "colab": {}
      },
      "cell_type": "code",
      "source": [
        "df['text'] = df['headline'] + ' ' + df['short_description']"
      ],
      "execution_count": 0,
      "outputs": []
    },
    {
      "metadata": {
        "id": "seAaEmJVhogu",
        "colab_type": "text"
      },
      "cell_type": "markdown",
      "source": [
        "Dropping columns which are not required for training till now"
      ]
    },
    {
      "metadata": {
        "id": "yVGWFAthBcwo",
        "colab_type": "code",
        "colab": {}
      },
      "cell_type": "code",
      "source": [
        "df.drop(['authors','date','link','headline','short_description'], axis = 1, inplace = True)"
      ],
      "execution_count": 0,
      "outputs": []
    },
    {
      "metadata": {
        "id": "1V9Stur2BuEG",
        "colab_type": "code",
        "outputId": "c1973d40-1eb6-4e98-c1b2-b12eb1a1435f",
        "colab": {
          "base_uri": "https://localhost:8080/",
          "height": 206
        }
      },
      "cell_type": "code",
      "source": [
        "df.head()"
      ],
      "execution_count": 0,
      "outputs": [
        {
          "output_type": "execute_result",
          "data": {
            "text/html": [
              "<div>\n",
              "<style scoped>\n",
              "    .dataframe tbody tr th:only-of-type {\n",
              "        vertical-align: middle;\n",
              "    }\n",
              "\n",
              "    .dataframe tbody tr th {\n",
              "        vertical-align: top;\n",
              "    }\n",
              "\n",
              "    .dataframe thead th {\n",
              "        text-align: right;\n",
              "    }\n",
              "</style>\n",
              "<table border=\"1\" class=\"dataframe\">\n",
              "  <thead>\n",
              "    <tr style=\"text-align: right;\">\n",
              "      <th></th>\n",
              "      <th>category</th>\n",
              "      <th>text</th>\n",
              "    </tr>\n",
              "  </thead>\n",
              "  <tbody>\n",
              "    <tr>\n",
              "      <th>0</th>\n",
              "      <td>CRIME</td>\n",
              "      <td>There Were 2 Mass Shootings In Texas Last Week...</td>\n",
              "    </tr>\n",
              "    <tr>\n",
              "      <th>1</th>\n",
              "      <td>ENTERTAINMENT</td>\n",
              "      <td>Will Smith Joins Diplo And Nicky Jam For The 2...</td>\n",
              "    </tr>\n",
              "    <tr>\n",
              "      <th>2</th>\n",
              "      <td>ENTERTAINMENT</td>\n",
              "      <td>Hugh Grant Marries For The First Time At Age 5...</td>\n",
              "    </tr>\n",
              "    <tr>\n",
              "      <th>3</th>\n",
              "      <td>ENTERTAINMENT</td>\n",
              "      <td>Jim Carrey Blasts 'Castrato' Adam Schiff And D...</td>\n",
              "    </tr>\n",
              "    <tr>\n",
              "      <th>4</th>\n",
              "      <td>ENTERTAINMENT</td>\n",
              "      <td>Julianna Margulies Uses Donald Trump Poop Bags...</td>\n",
              "    </tr>\n",
              "  </tbody>\n",
              "</table>\n",
              "</div>"
            ],
            "text/plain": [
              "        category                                               text\n",
              "0          CRIME  There Were 2 Mass Shootings In Texas Last Week...\n",
              "1  ENTERTAINMENT  Will Smith Joins Diplo And Nicky Jam For The 2...\n",
              "2  ENTERTAINMENT  Hugh Grant Marries For The First Time At Age 5...\n",
              "3  ENTERTAINMENT  Jim Carrey Blasts 'Castrato' Adam Schiff And D...\n",
              "4  ENTERTAINMENT  Julianna Margulies Uses Donald Trump Poop Bags..."
            ]
          },
          "metadata": {
            "tags": []
          },
          "execution_count": 9
        }
      ]
    },
    {
      "metadata": {
        "id": "1tb33QV1XqJl",
        "colab_type": "code",
        "outputId": "78ae6e51-2592-4926-a80a-7e0a4f90a677",
        "colab": {
          "base_uri": "https://localhost:8080/",
          "height": 598
        }
      },
      "cell_type": "code",
      "source": [
        "df['category'].value_counts()"
      ],
      "execution_count": 0,
      "outputs": [
        {
          "output_type": "execute_result",
          "data": {
            "text/plain": [
              "POLITICS          32739\n",
              "ENTERTAINMENT     14257\n",
              "HEALTHY LIVING     6694\n",
              "QUEER VOICES       4995\n",
              "BUSINESS           4254\n",
              "SPORTS             4167\n",
              "COMEDY             3971\n",
              "PARENTS            3955\n",
              "BLACK VOICES       3858\n",
              "THE WORLDPOST      3664\n",
              "WOMEN              3490\n",
              "CRIME              2893\n",
              "MEDIA              2815\n",
              "WEIRD NEWS         2670\n",
              "GREEN              2622\n",
              "IMPACT             2602\n",
              "WORLDPOST          2579\n",
              "RELIGION           2556\n",
              "STYLE              2254\n",
              "WORLD NEWS         2177\n",
              "TRAVEL             2145\n",
              "TASTE              2096\n",
              "ARTS               1509\n",
              "FIFTY              1401\n",
              "GOOD NEWS          1398\n",
              "SCIENCE            1381\n",
              "ARTS & CULTURE     1339\n",
              "TECH               1231\n",
              "COLLEGE            1144\n",
              "LATINO VOICES      1129\n",
              "EDUCATION          1004\n",
              "Name: category, dtype: int64"
            ]
          },
          "metadata": {
            "tags": []
          },
          "execution_count": 10
        }
      ]
    },
    {
      "metadata": {
        "id": "bKnqyPYrh1Yw",
        "colab_type": "text"
      },
      "cell_type": "markdown",
      "source": [
        "THE WORLDPOST and WORLDPOST are the same categories with different names.\n",
        "Replacing THE WORLDPOST with WORLDPOST"
      ]
    },
    {
      "metadata": {
        "id": "KlBkzTIAYExs",
        "colab_type": "code",
        "colab": {}
      },
      "cell_type": "code",
      "source": [
        "df['category'].replace('THE WORLDPOST','WORLDPOST', inplace = True)"
      ],
      "execution_count": 0,
      "outputs": []
    },
    {
      "metadata": {
        "id": "tEo67MMYYpDc",
        "colab_type": "code",
        "outputId": "5c772b1c-62e9-481a-afd8-d33b6a0b722e",
        "colab": {
          "base_uri": "https://localhost:8080/",
          "height": 580
        }
      },
      "cell_type": "code",
      "source": [
        "df['category'].value_counts()"
      ],
      "execution_count": 0,
      "outputs": [
        {
          "output_type": "execute_result",
          "data": {
            "text/plain": [
              "POLITICS          32739\n",
              "ENTERTAINMENT     14257\n",
              "HEALTHY LIVING     6694\n",
              "WORLDPOST          6243\n",
              "QUEER VOICES       4995\n",
              "BUSINESS           4254\n",
              "SPORTS             4167\n",
              "COMEDY             3971\n",
              "PARENTS            3955\n",
              "BLACK VOICES       3858\n",
              "WOMEN              3490\n",
              "CRIME              2893\n",
              "MEDIA              2815\n",
              "WEIRD NEWS         2670\n",
              "GREEN              2622\n",
              "IMPACT             2602\n",
              "RELIGION           2556\n",
              "STYLE              2254\n",
              "WORLD NEWS         2177\n",
              "TRAVEL             2145\n",
              "TASTE              2096\n",
              "ARTS               1509\n",
              "FIFTY              1401\n",
              "GOOD NEWS          1398\n",
              "SCIENCE            1381\n",
              "ARTS & CULTURE     1339\n",
              "TECH               1231\n",
              "COLLEGE            1144\n",
              "LATINO VOICES      1129\n",
              "EDUCATION          1004\n",
              "Name: category, dtype: int64"
            ]
          },
          "metadata": {
            "tags": []
          },
          "execution_count": 12
        }
      ]
    },
    {
      "metadata": {
        "id": "jBNV5SLSiJuj",
        "colab_type": "text"
      },
      "cell_type": "markdown",
      "source": [
        "Converting label categories into one-hot-encoding by creating dummy variables"
      ]
    },
    {
      "metadata": {
        "id": "mV11P1ZmBwzm",
        "colab_type": "code",
        "colab": {}
      },
      "cell_type": "code",
      "source": [
        "Y_oh_train = pd.get_dummies(df.category)"
      ],
      "execution_count": 0,
      "outputs": []
    },
    {
      "metadata": {
        "id": "P9IvZU6BCFpo",
        "colab_type": "code",
        "colab": {}
      },
      "cell_type": "code",
      "source": [
        "cols = Y_oh_train.columns"
      ],
      "execution_count": 0,
      "outputs": []
    },
    {
      "metadata": {
        "id": "UoGEbUy-CtMj",
        "colab_type": "code",
        "outputId": "dc07773b-27ae-4daf-d1cf-7f64abe32e11",
        "colab": {
          "base_uri": "https://localhost:8080/",
          "height": 35
        }
      },
      "cell_type": "code",
      "source": [
        "\n",
        "import sys, os, re, csv, codecs, numpy as np, pandas as pd\n",
        "\n",
        "from keras.preprocessing.text import Tokenizer\n",
        "from keras.preprocessing.sequence import pad_sequences\n",
        "from keras.layers import Dense, Input, LSTM, Embedding, Dropout, Activation\n",
        "from keras.layers import Bidirectional, GlobalMaxPool1D\n",
        "from keras.models import Model\n",
        "from keras import initializers, regularizers, constraints, optimizers, layers"
      ],
      "execution_count": 0,
      "outputs": [
        {
          "output_type": "stream",
          "text": [
            "Using TensorFlow backend.\n"
          ],
          "name": "stderr"
        }
      ]
    },
    {
      "metadata": {
        "id": "COA_E05PC_xv",
        "colab_type": "code",
        "outputId": "c263eebc-c4e2-443f-eb72-fa8b3adf261c",
        "colab": {
          "base_uri": "https://localhost:8080/",
          "height": 237
        }
      },
      "cell_type": "code",
      "source": [
        "!wget --header 'Host: storage.googleapis.com' --user-agent 'Mozilla/5.0 (Windows NT 10.0; Win64; x64; rv:63.0) Gecko/20100101 Firefox/63.0' --header 'Accept: text/html,application/xhtml+xml,application/xml;q=0.9,*/*;q=0.8' --header 'Accept-Language: en-US,en;q=0.5' --referer 'https://www.kaggle.com/' --header 'Upgrade-Insecure-Requests: 1' 'https://storage.googleapis.com/kaggle-datasets/8542/11957/glove.6B.50d.txt.zip?GoogleAccessId=web-data@kaggle-161607.iam.gserviceaccount.com&Expires=1543490729&Signature=dTBoFUCG1PLmaozIiMqDoIXWXl7c9J91LgeuL8MHwUD9%2FU88aFJQsKFHl0ippSi7LyGv81j5%2BQx6apAEDRw%2BW3aLgqtNCZ%2FnIKn5IDT%2Fg6af0rbtWpkS8aJTO8mlY7JKOCXXdkIwOnEhq6OBh3oTGyR8plP3jwcYgM4DU89o90VV8Fh%2FiOcZ0Zi8ijoV3oDMhIeBCQ2eAN2ANRwPz5KPsjkRF2xFI8hYllknfIaAnBxAAAwopLoieX8qvcPeUNGUB6PGuOt0HTCiUUOkyBsMa%2FooWY37i%2B6Arv37XprCyhQybi2Qbgp0JIg0UnGu6DYgi9kWRnOh0wWprS%2FgHj5izg%3D%3D' --output-document 'glove.6B.50d.txt.zip'"
      ],
      "execution_count": 0,
      "outputs": [
        {
          "output_type": "stream",
          "text": [
            "--2018-11-26 11:25:53--  https://storage.googleapis.com/kaggle-datasets/8542/11957/glove.6B.50d.txt.zip?GoogleAccessId=web-data@kaggle-161607.iam.gserviceaccount.com&Expires=1543490729&Signature=dTBoFUCG1PLmaozIiMqDoIXWXl7c9J91LgeuL8MHwUD9%2FU88aFJQsKFHl0ippSi7LyGv81j5%2BQx6apAEDRw%2BW3aLgqtNCZ%2FnIKn5IDT%2Fg6af0rbtWpkS8aJTO8mlY7JKOCXXdkIwOnEhq6OBh3oTGyR8plP3jwcYgM4DU89o90VV8Fh%2FiOcZ0Zi8ijoV3oDMhIeBCQ2eAN2ANRwPz5KPsjkRF2xFI8hYllknfIaAnBxAAAwopLoieX8qvcPeUNGUB6PGuOt0HTCiUUOkyBsMa%2FooWY37i%2B6Arv37XprCyhQybi2Qbgp0JIg0UnGu6DYgi9kWRnOh0wWprS%2FgHj5izg%3D%3D\n",
            "Resolving storage.googleapis.com (storage.googleapis.com)... 209.85.145.128, 2607:f8b0:4001:c14::80\n",
            "Connecting to storage.googleapis.com (storage.googleapis.com)|209.85.145.128|:443... connected.\n",
            "HTTP request sent, awaiting response... 200 OK\n",
            "Length: 70948758 (68M) [application/zip]\n",
            "Saving to: ‘glove.6B.50d.txt.zip’\n",
            "\n",
            "glove.6B.50d.txt.zi 100%[===================>]  67.66M  58.0MB/s    in 1.2s    \n",
            "\n",
            "2018-11-26 11:25:55 (58.0 MB/s) - ‘glove.6B.50d.txt.zip’ saved [70948758/70948758]\n",
            "\n"
          ],
          "name": "stdout"
        }
      ]
    },
    {
      "metadata": {
        "id": "YIvy7PaPF8fU",
        "colab_type": "code",
        "outputId": "53edd31c-fc54-4d4e-f2d7-78e189ab2f7f",
        "colab": {
          "base_uri": "https://localhost:8080/",
          "height": 53
        }
      },
      "cell_type": "code",
      "source": [
        "!unzip glove.6B.50d.txt.zip"
      ],
      "execution_count": 0,
      "outputs": [
        {
          "output_type": "stream",
          "text": [
            "Archive:  glove.6B.50d.txt.zip\n",
            "  inflating: glove.6B.50d.txt        \n"
          ],
          "name": "stdout"
        }
      ]
    },
    {
      "metadata": {
        "id": "UFy82bKdDS19",
        "colab_type": "code",
        "colab": {}
      },
      "cell_type": "code",
      "source": [
        "X_train = df[\"text\"].fillna(\"_na_\").values  #replace missing values\n",
        "y = Y_oh_train[cols].values"
      ],
      "execution_count": 0,
      "outputs": []
    },
    {
      "metadata": {
        "id": "YWwM88E7HAOj",
        "colab_type": "code",
        "outputId": "dcc55da4-a72f-4691-8428-294856809610",
        "colab": {
          "base_uri": "https://localhost:8080/",
          "height": 53
        }
      },
      "cell_type": "code",
      "source": [
        "!ls"
      ],
      "execution_count": 0,
      "outputs": [
        {
          "output_type": "stream",
          "text": [
            "glove.6B.50d.txt      News_Category_Dataset.json      sample_data\n",
            "glove.6B.50d.txt.zip  News_Category_Dataset.json.zip\n"
          ],
          "name": "stdout"
        }
      ]
    },
    {
      "metadata": {
        "id": "7flyw0BRcI3p",
        "colab_type": "code",
        "outputId": "87af4c77-e220-4934-e246-83a619a6bc8c",
        "colab": {
          "base_uri": "https://localhost:8080/",
          "height": 35
        }
      },
      "cell_type": "code",
      "source": [
        "maxlen = len(max(X_train, key=len).split()) # max number of words\n",
        "maxlen "
      ],
      "execution_count": 0,
      "outputs": [
        {
          "output_type": "execute_result",
          "data": {
            "text/plain": [
              "245"
            ]
          },
          "metadata": {
            "tags": []
          },
          "execution_count": 31
        }
      ]
    },
    {
      "metadata": {
        "id": "ZfJDPgReHgKT",
        "colab_type": "code",
        "outputId": "70c18a15-0ddb-4866-f87f-820e6768504d",
        "colab": {
          "base_uri": "https://localhost:8080/",
          "height": 55
        }
      },
      "cell_type": "code",
      "source": [
        "(max(X_train, key=len))"
      ],
      "execution_count": 0,
      "outputs": [
        {
          "output_type": "execute_result",
          "data": {
            "text/plain": [
              "'Sunday Roundup This week the nation watched as the #NeverTrump movement folded faster than one of the presumptive nominee\\'s beachfront developments. As many tried to explain away Trump\\'s reckless, racist extremism, a few put principle over party. The wife of former Republican Senator Bob Bennett, who died on May 4, revealed that her husband spent his dying hours reaching out to Muslims. \"He would go to people with the hijab [on] and tell them he was glad they were in America,\" she told the Daily Beast. \"He wanted to apologize on behalf of the Republican Party.\" In the U.K., Prime Minister David Cameron called Trump\\'s proposal to ban Muslims from entering the U.S., \"divisive, stupid and wrong.\" Trump\\'s reply was that he didn\\'t think he and Cameron would \"have a very good relationship.\" The press is also doing its part to whitewash extremism. The New York Times called Trump\\'s racism \"a reductive approach to ethnicity,\" and said Trump\\'s attitude toward women is \"complex\" and \"defies simple categorization,\" as if sexism is suddenly as complicated as string theory. Not everybody\\'s going along. Bob Garfield, co-host of \"On the Media,\" warned the press of the danger of normalizing Trump. \"Every interview with Donald Trump, every single one should hold him accountable for bigotry, incitement, juvenile conduct and blithe contempt for the Constitution,\" he said. \"The voters will do what the voters will do, but it must not be, cannot be because the press did not do enough.\"'"
            ]
          },
          "metadata": {
            "tags": []
          },
          "execution_count": 32
        }
      ]
    },
    {
      "metadata": {
        "id": "vqGLleW7bdpV",
        "colab_type": "code",
        "colab": {}
      },
      "cell_type": "code",
      "source": [
        "embed_size = 50 # length of each vector\n",
        "max_features = 2000 # num rows in embedding vector\n"
      ],
      "execution_count": 0,
      "outputs": []
    },
    {
      "metadata": {
        "id": "vLN59LcQjtFz",
        "colab_type": "text"
      },
      "cell_type": "markdown",
      "source": [
        "Preprocessing sentences using keras.\n"
      ]
    },
    {
      "metadata": {
        "id": "OuHwPW5JD6FW",
        "colab_type": "code",
        "colab": {}
      },
      "cell_type": "code",
      "source": [
        "tokenizer = Tokenizer(num_words=max_features)\n",
        "tokenizer.fit_on_texts(list(X_train))\n",
        "list_tokenized_train = tokenizer.texts_to_sequences(X_train)\n",
        "\n",
        "X_t = pad_sequences(list_tokenized_train, maxlen=maxlen)\n"
      ],
      "execution_count": 0,
      "outputs": []
    },
    {
      "metadata": {
        "id": "OCSH7PUmESRZ",
        "colab_type": "code",
        "colab": {}
      },
      "cell_type": "code",
      "source": [
        "EMBEDDING_FILE = 'glove.6B.50d.txt'"
      ],
      "execution_count": 0,
      "outputs": []
    },
    {
      "metadata": {
        "id": "WES5wZjekOmu",
        "colab_type": "text"
      },
      "cell_type": "markdown",
      "source": [
        "Creating Word to Vec dictionary"
      ]
    },
    {
      "metadata": {
        "id": "nhe_2oCuD-XC",
        "colab_type": "code",
        "colab": {}
      },
      "cell_type": "code",
      "source": [
        "def get_coefs(word,*arr):\n",
        "  return word, np.asarray(arr, dtype='float32')\n",
        "embeddings_index = dict(get_coefs(*o.strip().split()) for o in open(EMBEDDING_FILE))"
      ],
      "execution_count": 0,
      "outputs": []
    },
    {
      "metadata": {
        "id": "smE9C4W0ELVu",
        "colab_type": "code",
        "outputId": "1d3cd62b-c6c5-42ea-a63b-9e5c781669e9",
        "colab": {
          "base_uri": "https://localhost:8080/",
          "height": 35
        }
      },
      "cell_type": "code",
      "source": [
        "all_embs = np.stack(embeddings_index.values())\n",
        "emb_mean,emb_std = all_embs.mean(), all_embs.std()\n",
        "emb_mean,emb_std"
      ],
      "execution_count": 0,
      "outputs": [
        {
          "output_type": "execute_result",
          "data": {
            "text/plain": [
              "(0.020940498, 0.6441043)"
            ]
          },
          "metadata": {
            "tags": []
          },
          "execution_count": 37
        }
      ]
    },
    {
      "metadata": {
        "id": "Aw0hF4X9xxuL",
        "colab_type": "code",
        "outputId": "7d49a433-3fcf-470f-d64f-78d4a05c97c8",
        "colab": {
          "base_uri": "https://localhost:8080/",
          "height": 35
        }
      },
      "cell_type": "code",
      "source": [
        "word_index = tokenizer.word_index\n",
        "len(word_index)"
      ],
      "execution_count": 0,
      "outputs": [
        {
          "output_type": "execute_result",
          "data": {
            "text/plain": [
              "86627"
            ]
          },
          "metadata": {
            "tags": []
          },
          "execution_count": 40
        }
      ]
    },
    {
      "metadata": {
        "id": "vSH9ZFNiyjD4",
        "colab_type": "code",
        "colab": {}
      },
      "cell_type": "code",
      "source": [
        "nb_words = min(max_features, len(word_index))"
      ],
      "execution_count": 0,
      "outputs": []
    },
    {
      "metadata": {
        "id": "rrgKLKjdyl1R",
        "colab_type": "code",
        "outputId": "9d2b4ff9-1dca-4229-aed6-16efb607955e",
        "colab": {
          "base_uri": "https://localhost:8080/",
          "height": 18202
        }
      },
      "cell_type": "code",
      "source": [
        "word_index"
      ],
      "execution_count": 0,
      "outputs": [
        {
          "output_type": "execute_result",
          "data": {
            "text/plain": [
              "{'the': 1,\n",
              " 'to': 2,\n",
              " 'a': 3,\n",
              " 'of': 4,\n",
              " 'and': 5,\n",
              " 'in': 6,\n",
              " 'is': 7,\n",
              " 'for': 8,\n",
              " 'on': 9,\n",
              " 'that': 10,\n",
              " 'with': 11,\n",
              " 'it': 12,\n",
              " 'you': 13,\n",
              " 'are': 14,\n",
              " 'i': 15,\n",
              " 'this': 16,\n",
              " 'be': 17,\n",
              " 'as': 18,\n",
              " 'at': 19,\n",
              " 'trump': 20,\n",
              " 'from': 21,\n",
              " 'have': 22,\n",
              " 'not': 23,\n",
              " 'we': 24,\n",
              " 'about': 25,\n",
              " 'was': 26,\n",
              " 'new': 27,\n",
              " 'his': 28,\n",
              " 'your': 29,\n",
              " 'but': 30,\n",
              " 'has': 31,\n",
              " 'an': 32,\n",
              " 'what': 33,\n",
              " 'will': 34,\n",
              " 'by': 35,\n",
              " 'how': 36,\n",
              " 'my': 37,\n",
              " 'he': 38,\n",
              " 'one': 39,\n",
              " 'all': 40,\n",
              " 'more': 41,\n",
              " 'who': 42,\n",
              " 'can': 43,\n",
              " 'their': 44,\n",
              " 'up': 45,\n",
              " 'after': 46,\n",
              " 'people': 47,\n",
              " 'out': 48,\n",
              " 'our': 49,\n",
              " 'her': 50,\n",
              " 'just': 51,\n",
              " 'they': 52,\n",
              " 'when': 53,\n",
              " 'or': 54,\n",
              " 'donald': 55,\n",
              " \"it's\": 56,\n",
              " 'like': 57,\n",
              " 'if': 58,\n",
              " 'time': 59,\n",
              " 'over': 60,\n",
              " 'so': 61,\n",
              " 'do': 62,\n",
              " 'no': 63,\n",
              " 'why': 64,\n",
              " 'says': 65,\n",
              " 'than': 66,\n",
              " 'said': 67,\n",
              " 'year': 68,\n",
              " 'first': 69,\n",
              " 'been': 70,\n",
              " 'u': 71,\n",
              " 'president': 72,\n",
              " 'day': 73,\n",
              " 's': 74,\n",
              " 'get': 75,\n",
              " 'world': 76,\n",
              " 'women': 77,\n",
              " 'life': 78,\n",
              " 'some': 79,\n",
              " 'most': 80,\n",
              " 'now': 81,\n",
              " 'make': 82,\n",
              " 'into': 83,\n",
              " 'would': 84,\n",
              " 'us': 85,\n",
              " 'could': 86,\n",
              " 'there': 87,\n",
              " 'its': 88,\n",
              " 'she': 89,\n",
              " 'me': 90,\n",
              " 'years': 91,\n",
              " 'these': 92,\n",
              " 'know': 93,\n",
              " 'should': 94,\n",
              " 'were': 95,\n",
              " 'may': 96,\n",
              " 'had': 97,\n",
              " \"trump's\": 98,\n",
              " 'way': 99,\n",
              " 'need': 100,\n",
              " 'say': 101,\n",
              " \"don't\": 102,\n",
              " 'back': 103,\n",
              " 'them': 104,\n",
              " 'many': 105,\n",
              " 'two': 106,\n",
              " 'being': 107,\n",
              " 'even': 108,\n",
              " '”': 109,\n",
              " 'state': 110,\n",
              " 'want': 111,\n",
              " 'against': 112,\n",
              " 'house': 113,\n",
              " 'white': 114,\n",
              " 'still': 115,\n",
              " 'love': 116,\n",
              " 'help': 117,\n",
              " 'good': 118,\n",
              " 'week': 119,\n",
              " 'only': 120,\n",
              " 'clinton': 121,\n",
              " 'man': 122,\n",
              " 'other': 123,\n",
              " 'health': 124,\n",
              " 'news': 125,\n",
              " 'down': 126,\n",
              " 'take': 127,\n",
              " 'gop': 128,\n",
              " 'because': 129,\n",
              " 'best': 130,\n",
              " 'old': 131,\n",
              " 'right': 132,\n",
              " 'last': 133,\n",
              " 'off': 134,\n",
              " 'police': 135,\n",
              " 'obama': 136,\n",
              " 'black': 137,\n",
              " 'change': 138,\n",
              " 'him': 139,\n",
              " 'american': 140,\n",
              " 'really': 141,\n",
              " 'show': 142,\n",
              " 'things': 143,\n",
              " 'think': 144,\n",
              " 'before': 145,\n",
              " 'much': 146,\n",
              " 'never': 147,\n",
              " 'too': 148,\n",
              " 'see': 149,\n",
              " 'while': 150,\n",
              " 'every': 151,\n",
              " 'go': 152,\n",
              " 'hillary': 153,\n",
              " 'work': 154,\n",
              " 'bill': 155,\n",
              " 'also': 156,\n",
              " 'school': 157,\n",
              " 'big': 158,\n",
              " 'made': 159,\n",
              " 'going': 160,\n",
              " 'those': 161,\n",
              " 'here': 162,\n",
              " 'family': 163,\n",
              " 'kids': 164,\n",
              " 'own': 165,\n",
              " 'campaign': 166,\n",
              " 'where': 167,\n",
              " 'america': 168,\n",
              " 'look': 169,\n",
              " '5': 170,\n",
              " 'woman': 171,\n",
              " 'care': 172,\n",
              " 'long': 173,\n",
              " 'during': 174,\n",
              " 'court': 175,\n",
              " 'video': 176,\n",
              " 'former': 177,\n",
              " 'watch': 178,\n",
              " 'better': 179,\n",
              " 'election': 180,\n",
              " 'which': 181,\n",
              " 'very': 182,\n",
              " 'ever': 183,\n",
              " \"here's\": 184,\n",
              " 'another': 185,\n",
              " '10': 186,\n",
              " 'through': 187,\n",
              " 'gay': 188,\n",
              " 'little': 189,\n",
              " 'real': 190,\n",
              " 'climate': 191,\n",
              " 'did': 192,\n",
              " 'death': 193,\n",
              " 'war': 194,\n",
              " 'media': 195,\n",
              " 'americans': 196,\n",
              " 'country': 197,\n",
              " 'got': 198,\n",
              " 'any': 199,\n",
              " 'national': 200,\n",
              " 'well': 201,\n",
              " 'children': 202,\n",
              " 'stop': 203,\n",
              " 'states': 204,\n",
              " 'republican': 205,\n",
              " 'home': 206,\n",
              " 'again': 207,\n",
              " 'rights': 208,\n",
              " 'next': 209,\n",
              " 'wants': 210,\n",
              " 'star': 211,\n",
              " 'york': 212,\n",
              " 'political': 213,\n",
              " 'end': 214,\n",
              " 'party': 215,\n",
              " 'something': 216,\n",
              " 'great': 217,\n",
              " 'part': 218,\n",
              " 'around': 219,\n",
              " 'men': 220,\n",
              " \"doesn't\": 221,\n",
              " 'public': 222,\n",
              " 'republicans': 223,\n",
              " 'since': 224,\n",
              " '1': 225,\n",
              " \"can't\": 226,\n",
              " \"i'm\": 227,\n",
              " 'days': 228,\n",
              " 'history': 229,\n",
              " 'does': 230,\n",
              " 'city': 231,\n",
              " 'million': 232,\n",
              " 'anti': 233,\n",
              " 'come': 234,\n",
              " 'high': 235,\n",
              " 'might': 236,\n",
              " 'story': 237,\n",
              " 'law': 238,\n",
              " 'must': 239,\n",
              " 'business': 240,\n",
              " 'thing': 241,\n",
              " \"'\": 242,\n",
              " 'government': 243,\n",
              " 'ways': 244,\n",
              " 'without': 245,\n",
              " 'find': 246,\n",
              " 'top': 247,\n",
              " 'making': 248,\n",
              " 'live': 249,\n",
              " 'support': 250,\n",
              " 'john': 251,\n",
              " \"he's\": 252,\n",
              " 'face': 253,\n",
              " 'between': 254,\n",
              " 'give': 255,\n",
              " 'senate': 256,\n",
              " 'same': 257,\n",
              " 'getting': 258,\n",
              " '3': 259,\n",
              " '2': 260,\n",
              " 'lives': 261,\n",
              " \"you're\": 262,\n",
              " 'three': 263,\n",
              " 'am': 264,\n",
              " '000': 265,\n",
              " 'presidential': 266,\n",
              " 'sexual': 267,\n",
              " 'found': 268,\n",
              " 'social': 269,\n",
              " 'fight': 270,\n",
              " 'shows': 271,\n",
              " \"won't\": 272,\n",
              " 'college': 273,\n",
              " 'report': 274,\n",
              " 'it’s': 275,\n",
              " 'makes': 276,\n",
              " 'food': 277,\n",
              " 'students': 278,\n",
              " 'feel': 279,\n",
              " \"didn't\": 280,\n",
              " 'young': 281,\n",
              " 'north': 282,\n",
              " 'gets': 283,\n",
              " 'times': 284,\n",
              " '2016': 285,\n",
              " 'always': 286,\n",
              " 'democrats': 287,\n",
              " 'future': 288,\n",
              " 'power': 289,\n",
              " 'vote': 290,\n",
              " 'keep': 291,\n",
              " 'season': 292,\n",
              " 'today': 293,\n",
              " \"isn't\": 294,\n",
              " 'called': 295,\n",
              " 'call': 296,\n",
              " 'use': 297,\n",
              " 'deal': 298,\n",
              " 'violence': 299,\n",
              " 'money': 300,\n",
              " 'under': 301,\n",
              " 'child': 302,\n",
              " 'few': 303,\n",
              " 'plan': 304,\n",
              " 'attack': 305,\n",
              " 'yet': 306,\n",
              " 'away': 307,\n",
              " 'night': 308,\n",
              " 'democratic': 309,\n",
              " 'lot': 310,\n",
              " 'twitter': 311,\n",
              " 'gun': 312,\n",
              " 'comes': 313,\n",
              " 'case': 314,\n",
              " 'dead': 315,\n",
              " 'both': 316,\n",
              " 'let': 317,\n",
              " 'bad': 318,\n",
              " 'shooting': 319,\n",
              " 'sanders': 320,\n",
              " 'then': 321,\n",
              " 'parents': 322,\n",
              " 'killed': 323,\n",
              " 'important': 324,\n",
              " 'free': 325,\n",
              " 'calls': 326,\n",
              " 'become': 327,\n",
              " 'united': 328,\n",
              " 'least': 329,\n",
              " 'start': 330,\n",
              " 'congress': 331,\n",
              " 'sex': 332,\n",
              " 'group': 333,\n",
              " 'film': 334,\n",
              " 'place': 335,\n",
              " 'actually': 336,\n",
              " 'community': 337,\n",
              " \"that's\": 338,\n",
              " '—': 339,\n",
              " 'morning': 340,\n",
              " \"there's\": 341,\n",
              " 'past': 342,\n",
              " 'hard': 343,\n",
              " 'each': 344,\n",
              " 'talk': 345,\n",
              " 'job': 346,\n",
              " \"'the\": 347,\n",
              " 'race': 348,\n",
              " 'huffpost': 349,\n",
              " 'enough': 350,\n",
              " 'far': 351,\n",
              " 'justice': 352,\n",
              " 'put': 353,\n",
              " 'win': 354,\n",
              " 'debate': 355,\n",
              " 'mom': 356,\n",
              " '7': 357,\n",
              " 'behind': 358,\n",
              " 'game': 359,\n",
              " 'human': 360,\n",
              " '4': 361,\n",
              " 'supreme': 362,\n",
              " 'baby': 363,\n",
              " 'washington': 364,\n",
              " 'believe': 365,\n",
              " 'bernie': 366,\n",
              " 'federal': 367,\n",
              " 'education': 368,\n",
              " 'once': 369,\n",
              " 'everyone': 370,\n",
              " 'post': 371,\n",
              " 'security': 372,\n",
              " 'takes': 373,\n",
              " '6': 374,\n",
              " 'trump’s': 375,\n",
              " 'set': 376,\n",
              " 'hope': 377,\n",
              " 'whether': 378,\n",
              " 'coming': 379,\n",
              " 'already': 380,\n",
              " 'needs': 381,\n",
              " 'open': 382,\n",
              " 'music': 383,\n",
              " 'told': 384,\n",
              " 'trying': 385,\n",
              " 'wrong': 386,\n",
              " 'tell': 387,\n",
              " 'policy': 388,\n",
              " 'second': 389,\n",
              " 'less': 390,\n",
              " 'doing': 391,\n",
              " 'tv': 392,\n",
              " 'often': 393,\n",
              " 'ago': 394,\n",
              " 'leaders': 395,\n",
              " 'crisis': 396,\n",
              " 'run': 397,\n",
              " 'tax': 398,\n",
              " 'finally': 399,\n",
              " 'someone': 400,\n",
              " 'russia': 401,\n",
              " \"we're\": 402,\n",
              " 'everything': 403,\n",
              " 'art': 404,\n",
              " 'major': 405,\n",
              " 'pay': 406,\n",
              " 'problem': 407,\n",
              " 'month': 408,\n",
              " 'self': 409,\n",
              " 'having': 410,\n",
              " 'working': 411,\n",
              " 'team': 412,\n",
              " 'latest': 413,\n",
              " 'used': 414,\n",
              " 'together': 415,\n",
              " 'movie': 416,\n",
              " 'company': 417,\n",
              " 'move': 418,\n",
              " 'office': 419,\n",
              " 'person': 420,\n",
              " 'son': 421,\n",
              " '2015': 422,\n",
              " 'ban': 423,\n",
              " 'left': 424,\n",
              " 'global': 425,\n",
              " 'matter': 426,\n",
              " 'james': 427,\n",
              " 'nothing': 428,\n",
              " 'voters': 429,\n",
              " 'south': 430,\n",
              " 'california': 431,\n",
              " 'body': 432,\n",
              " 'summer': 433,\n",
              " 'taking': 434,\n",
              " 'moment': 435,\n",
              " 'looks': 436,\n",
              " 'administration': 437,\n",
              " 'took': 438,\n",
              " 'others': 439,\n",
              " 'friends': 440,\n",
              " 'different': 441,\n",
              " \"they're\": 442,\n",
              " 'michael': 443,\n",
              " 'paul': 444,\n",
              " 'months': 445,\n",
              " 'photos': 446,\n",
              " 'five': 447,\n",
              " 'series': 448,\n",
              " 'looking': 449,\n",
              " 'claims': 450,\n",
              " 'act': 451,\n",
              " 'water': 452,\n",
              " 'texas': 453,\n",
              " '20': 454,\n",
              " 'director': 455,\n",
              " 'don’t': 456,\n",
              " 'heart': 457,\n",
              " 'living': 458,\n",
              " 'meet': 459,\n",
              " 'hit': 460,\n",
              " 'four': 461,\n",
              " 'question': 462,\n",
              " 'age': 463,\n",
              " 'judge': 464,\n",
              " 'happy': 465,\n",
              " 'true': 466,\n",
              " 'play': 467,\n",
              " 'thought': 468,\n",
              " 'candidate': 469,\n",
              " 'girl': 470,\n",
              " 'perfect': 471,\n",
              " 'mother': 472,\n",
              " 'daughter': 473,\n",
              " 'full': 474,\n",
              " 'speech': 475,\n",
              " 'head': 476,\n",
              " 'super': 477,\n",
              " 'words': 478,\n",
              " 'action': 479,\n",
              " '9': 480,\n",
              " 'read': 481,\n",
              " 'percent': 482,\n",
              " 'muslim': 483,\n",
              " 'reportedly': 484,\n",
              " 'recent': 485,\n",
              " 'rise': 486,\n",
              " 'travel': 487,\n",
              " '8': 488,\n",
              " 'decision': 489,\n",
              " 'late': 490,\n",
              " 'military': 491,\n",
              " 'control': 492,\n",
              " 'student': 493,\n",
              " 'questions': 494,\n",
              " 'sure': 495,\n",
              " 'accused': 496,\n",
              " 'cancer': 497,\n",
              " 'name': 498,\n",
              " 'book': 499,\n",
              " '11': 500,\n",
              " 'shot': 501,\n",
              " 'leader': 502,\n",
              " 'university': 503,\n",
              " 'easy': 504,\n",
              " 'system': 505,\n",
              " 'means': 506,\n",
              " 'across': 507,\n",
              " 'isis': 508,\n",
              " 'came': 509,\n",
              " 'try': 510,\n",
              " 'goes': 511,\n",
              " 'dog': 512,\n",
              " 'fire': 513,\n",
              " 'email': 514,\n",
              " 'lost': 515,\n",
              " 'message': 516,\n",
              " 'such': 517,\n",
              " 'officials': 518,\n",
              " 'powerful': 519,\n",
              " 'marriage': 520,\n",
              " 'ready': 521,\n",
              " 'senator': 522,\n",
              " 'christmas': 523,\n",
              " 'lead': 524,\n",
              " 'host': 525,\n",
              " 'among': 526,\n",
              " 'politics': 527,\n",
              " 'experience': 528,\n",
              " 'attacks': 529,\n",
              " 'leave': 530,\n",
              " '2014': 531,\n",
              " 'ryan': 532,\n",
              " 'stand': 533,\n",
              " 'seen': 534,\n",
              " 'reality': 535,\n",
              " 'stories': 536,\n",
              " 'likely': 537,\n",
              " 'letter': 538,\n",
              " \"i've\": 539,\n",
              " 'reason': 540,\n",
              " 'order': 541,\n",
              " 'probably': 542,\n",
              " 'role': 543,\n",
              " 'special': 544,\n",
              " 'almost': 545,\n",
              " 'issues': 546,\n",
              " 'asked': 547,\n",
              " 'yourself': 548,\n",
              " 'short': 549,\n",
              " 'mean': 550,\n",
              " 'list': 551,\n",
              " 'facebook': 552,\n",
              " 'assault': 553,\n",
              " 'bring': 554,\n",
              " 'point': 555,\n",
              " 'chief': 556,\n",
              " 'running': 557,\n",
              " 'fox': 558,\n",
              " 'department': 559,\n",
              " 'middle': 560,\n",
              " 'secretary': 561,\n",
              " 'immigration': 562,\n",
              " 'early': 563,\n",
              " 'nearly': 564,\n",
              " \"she's\": 565,\n",
              " 'small': 566,\n",
              " 'female': 567,\n",
              " 'wanted': 568,\n",
              " 'until': 569,\n",
              " 'issue': 570,\n",
              " 'girls': 571,\n",
              " 'general': 572,\n",
              " 'kind': 573,\n",
              " 'hate': 574,\n",
              " 'reasons': 575,\n",
              " 'record': 576,\n",
              " 'photo': 577,\n",
              " 'talking': 578,\n",
              " 'street': 579,\n",
              " 'russian': 580,\n",
              " 'learn': 581,\n",
              " 'florida': 582,\n",
              " 'fear': 583,\n",
              " 'international': 584,\n",
              " 'giving': 585,\n",
              " 'key': 586,\n",
              " 'march': 587,\n",
              " \"aren't\": 588,\n",
              " 'idea': 589,\n",
              " 'response': 590,\n",
              " 'save': 591,\n",
              " 'instead': 592,\n",
              " 'lgbt': 593,\n",
              " 'personal': 594,\n",
              " 'ask': 595,\n",
              " 'car': 596,\n",
              " 'obamacare': 597,\n",
              " 'fans': 598,\n",
              " 'families': 599,\n",
              " 'trans': 600,\n",
              " '15': 601,\n",
              " \"women's\": 602,\n",
              " 'air': 603,\n",
              " 'done': 604,\n",
              " 'china': 605,\n",
              " 'interview': 606,\n",
              " 'transgender': 607,\n",
              " 'went': 608,\n",
              " 'friday': 609,\n",
              " 'workers': 610,\n",
              " 'iran': 611,\n",
              " 'step': 612,\n",
              " 'victims': 613,\n",
              " 'tweets': 614,\n",
              " 'turn': 615,\n",
              " '12': 616,\n",
              " 'daily': 617,\n",
              " 'mind': 618,\n",
              " 'learned': 619,\n",
              " 'kim': 620,\n",
              " 'internet': 621,\n",
              " \"what's\": 622,\n",
              " 'possible': 623,\n",
              " 'inside': 624,\n",
              " 'secret': 625,\n",
              " 'yes': 626,\n",
              " 'using': 627,\n",
              " 'thousands': 628,\n",
              " 'despite': 629,\n",
              " 'cruz': 630,\n",
              " 'single': 631,\n",
              " 'pretty': 632,\n",
              " 'biggest': 633,\n",
              " 'schools': 634,\n",
              " 'wall': 635,\n",
              " 'nation': 636,\n",
              " 'holiday': 637,\n",
              " 'weekend': 638,\n",
              " 'according': 639,\n",
              " 'dad': 640,\n",
              " 'fact': 641,\n",
              " 'gives': 642,\n",
              " 'west': 643,\n",
              " 'service': 644,\n",
              " 'gender': 645,\n",
              " 'study': 646,\n",
              " 'happened': 647,\n",
              " 'sleep': 648,\n",
              " 'korea': 649,\n",
              " 'break': 650,\n",
              " '100': 651,\n",
              " 'culture': 652,\n",
              " 'paris': 653,\n",
              " 'number': 654,\n",
              " 'governor': 655,\n",
              " 'remember': 656,\n",
              " 'sunday': 657,\n",
              " 'based': 658,\n",
              " 'rules': 659,\n",
              " 'truth': 660,\n",
              " 'science': 661,\n",
              " 'father': 662,\n",
              " 'line': 663,\n",
              " 'though': 664,\n",
              " 'legal': 665,\n",
              " 'chris': 666,\n",
              " 'anything': 667,\n",
              " 'red': 668,\n",
              " 'david': 669,\n",
              " 'actor': 670,\n",
              " 'lgbtq': 671,\n",
              " 'drug': 672,\n",
              " '2017': 673,\n",
              " 'half': 674,\n",
              " 'abuse': 675,\n",
              " 'boy': 676,\n",
              " 'seems': 677,\n",
              " 'share': 678,\n",
              " 'fall': 679,\n",
              " 'clear': 680,\n",
              " 'close': 681,\n",
              " 'simple': 682,\n",
              " 'anyone': 683,\n",
              " 'force': 684,\n",
              " 'saying': 685,\n",
              " 'success': 686,\n",
              " 'members': 687,\n",
              " 'favorite': 688,\n",
              " 'online': 689,\n",
              " 'career': 690,\n",
              " 'nominee': 691,\n",
              " \"let's\": 692,\n",
              " 'press': 693,\n",
              " 'challenge': 694,\n",
              " 'energy': 695,\n",
              " 'maybe': 696,\n",
              " 'battle': 697,\n",
              " 'peace': 698,\n",
              " 'whole': 699,\n",
              " 'growing': 700,\n",
              " '50': 701,\n",
              " 'plans': 702,\n",
              " 'official': 703,\n",
              " 'side': 704,\n",
              " 'companies': 705,\n",
              " 'died': 706,\n",
              " 'ted': 707,\n",
              " 'teen': 708,\n",
              " 'economic': 709,\n",
              " 'happen': 710,\n",
              " 'ahead': 711,\n",
              " 'able': 712,\n",
              " 'worst': 713,\n",
              " 'syria': 714,\n",
              " 'common': 715,\n",
              " 'known': 716,\n",
              " 'risk': 717,\n",
              " 'welcome': 718,\n",
              " 'civil': 719,\n",
              " 'nuclear': 720,\n",
              " 'prison': 721,\n",
              " 'nfl': 722,\n",
              " 'groups': 723,\n",
              " 'industry': 724,\n",
              " 'beautiful': 725,\n",
              " 'understand': 726,\n",
              " 'front': 727,\n",
              " 'bush': 728,\n",
              " 'queer': 729,\n",
              " 'ad': 730,\n",
              " 'investigation': 731,\n",
              " 'candidates': 732,\n",
              " 'fbi': 733,\n",
              " 'beyond': 734,\n",
              " 'mike': 735,\n",
              " 'class': 736,\n",
              " 'stay': 737,\n",
              " 'fighting': 738,\n",
              " 'movement': 739,\n",
              " 'stephen': 740,\n",
              " 'following': 741,\n",
              " 'd': 742,\n",
              " 'officer': 743,\n",
              " 'research': 744,\n",
              " 'tells': 745,\n",
              " 'attention': 746,\n",
              " 'sometimes': 747,\n",
              " 'abortion': 748,\n",
              " 'continue': 749,\n",
              " 'longer': 750,\n",
              " 'heard': 751,\n",
              " 'sense': 752,\n",
              " 'guy': 753,\n",
              " 'foreign': 754,\n",
              " 'hours': 755,\n",
              " 'meeting': 756,\n",
              " 'attorney': 757,\n",
              " 'course': 758,\n",
              " 'protect': 759,\n",
              " 'arrested': 760,\n",
              " 'scott': 761,\n",
              " 'pope': 762,\n",
              " 'six': 763,\n",
              " 'killing': 764,\n",
              " 'jobs': 765,\n",
              " 'cut': 766,\n",
              " 'mental': 767,\n",
              " \"america's\": 768,\n",
              " 'word': 769,\n",
              " \"obama's\": 770,\n",
              " 'finds': 771,\n",
              " 'hear': 772,\n",
              " 'king': 773,\n",
              " 'comments': 774,\n",
              " 'reveals': 775,\n",
              " 'primary': 776,\n",
              " 'hold': 777,\n",
              " 'soon': 778,\n",
              " 'outside': 779,\n",
              " 'sign': 780,\n",
              " 'forward': 781,\n",
              " 'hollywood': 782,\n",
              " 'healthy': 783,\n",
              " 'refugees': 784,\n",
              " 'huge': 785,\n",
              " 'myself': 786,\n",
              " 'protest': 787,\n",
              " 'strong': 788,\n",
              " 'church': 789,\n",
              " '“i': 790,\n",
              " 'c': 791,\n",
              " 'access': 792,\n",
              " 'planned': 793,\n",
              " 'wins': 794,\n",
              " 'religious': 795,\n",
              " 'i’m': 796,\n",
              " 'started': 797,\n",
              " 'choice': 798,\n",
              " 'himself': 799,\n",
              " 'process': 800,\n",
              " 'several': 801,\n",
              " 'reform': 802,\n",
              " 'tips': 803,\n",
              " 'countries': 804,\n",
              " 'later': 805,\n",
              " 'tom': 806,\n",
              " 'friend': 807,\n",
              " \"you'll\": 808,\n",
              " 'fun': 809,\n",
              " 'iraq': 810,\n",
              " 'program': 811,\n",
              " 'data': 812,\n",
              " 'create': 813,\n",
              " 'talks': 814,\n",
              " 'george': 815,\n",
              " \"world's\": 816,\n",
              " 'jimmy': 817,\n",
              " 'mark': 818,\n",
              " 'happens': 819,\n",
              " 'actress': 820,\n",
              " 'amid': 821,\n",
              " 'freedom': 822,\n",
              " 'artist': 823,\n",
              " '30': 824,\n",
              " 'calling': 825,\n",
              " 'including': 826,\n",
              " 'low': 827,\n",
              " 'relationship': 828,\n",
              " 'union': 829,\n",
              " 'society': 830,\n",
              " 'couple': 831,\n",
              " 'wife': 832,\n",
              " 'hill': 833,\n",
              " 'brown': 834,\n",
              " 'executive': 835,\n",
              " 'recently': 836,\n",
              " 'ceo': 837,\n",
              " 'lawmakers': 838,\n",
              " 'center': 839,\n",
              " 'san': 840,\n",
              " 'hot': 841,\n",
              " 'cops': 842,\n",
              " 'weeks': 843,\n",
              " 'millions': 844,\n",
              " 'rather': 845,\n",
              " 'chance': 846,\n",
              " 'local': 847,\n",
              " 'allegedly': 848,\n",
              " 'thinks': 849,\n",
              " 'opportunity': 850,\n",
              " 'trip': 851,\n",
              " 'east': 852,\n",
              " 'third': 853,\n",
              " 'serious': 854,\n",
              " 'threat': 855,\n",
              " 'changed': 856,\n",
              " 'final': 857,\n",
              " 'light': 858,\n",
              " 'town': 859,\n",
              " 'rep': 860,\n",
              " 'harassment': 861,\n",
              " \"wasn't\": 862,\n",
              " 'decades': 863,\n",
              " 'knew': 864,\n",
              " 'football': 865,\n",
              " 'lose': 866,\n",
              " 'surprise': 867,\n",
              " 'gave': 868,\n",
              " 'guide': 869,\n",
              " 'kill': 870,\n",
              " 'taken': 871,\n",
              " 'missing': 872,\n",
              " 'visit': 873,\n",
              " 'joe': 874,\n",
              " 'co': 875,\n",
              " 'event': 876,\n",
              " 'near': 877,\n",
              " 'stars': 878,\n",
              " 'performance': 879,\n",
              " 'conservative': 880,\n",
              " 'lessons': 881,\n",
              " 'supporters': 882,\n",
              " 'eat': 883,\n",
              " 'given': 884,\n",
              " 'singer': 885,\n",
              " 'rock': 886,\n",
              " 'amazing': 887,\n",
              " 'themselves': 888,\n",
              " 'trailer': 889,\n",
              " 'economy': 890,\n",
              " 'test': 891,\n",
              " 'laws': 892,\n",
              " 'speak': 893,\n",
              " 'continues': 894,\n",
              " 'billion': 895,\n",
              " 'birthday': 896,\n",
              " 'rape': 897,\n",
              " 'wrote': 898,\n",
              " 'carolina': 899,\n",
              " 'voting': 900,\n",
              " 'israel': 901,\n",
              " 'birth': 902,\n",
              " 'god': 903,\n",
              " 'won': 904,\n",
              " 'sports': 905,\n",
              " 'medical': 906,\n",
              " 'style': 907,\n",
              " 'oil': 908,\n",
              " 'else': 909,\n",
              " 'trade': 910,\n",
              " 'turned': 911,\n",
              " 'beauty': 912,\n",
              " 'thinking': 913,\n",
              " 'sen': 914,\n",
              " 'focus': 915,\n",
              " 'became': 916,\n",
              " 'mass': 917,\n",
              " 'term': 918,\n",
              " 'cover': 919,\n",
              " 'answer': 920,\n",
              " 'racist': 921,\n",
              " 'room': 922,\n",
              " 'celebrate': 923,\n",
              " 'seem': 924,\n",
              " 'needed': 925,\n",
              " 'song': 926,\n",
              " 'ex': 927,\n",
              " 'safe': 928,\n",
              " 'k': 929,\n",
              " 'cities': 930,\n",
              " 'taylor': 931,\n",
              " 'cannot': 932,\n",
              " 'along': 933,\n",
              " 'hundreds': 934,\n",
              " \"you've\": 935,\n",
              " 'met': 936,\n",
              " 'dream': 937,\n",
              " 'space': 938,\n",
              " 'pro': 939,\n",
              " 'hair': 940,\n",
              " 'within': 941,\n",
              " 'worth': 942,\n",
              " 'held': 943,\n",
              " '13': 944,\n",
              " 'thanks': 945,\n",
              " 'helped': 946,\n",
              " 'un': 947,\n",
              " 'claim': 948,\n",
              " 'voter': 949,\n",
              " 'evidence': 950,\n",
              " 'information': 951,\n",
              " 'released': 952,\n",
              " 'advice': 953,\n",
              " 'instagram': 954,\n",
              " 'release': 955,\n",
              " 'loss': 956,\n",
              " 'steps': 957,\n",
              " 'pick': 958,\n",
              " 'feeling': 959,\n",
              " 'moms': 960,\n",
              " 'winning': 961,\n",
              " 'conversation': 962,\n",
              " 'building': 963,\n",
              " 'july': 964,\n",
              " 'monday': 965,\n",
              " 'syrian': 966,\n",
              " 'turns': 967,\n",
              " 'led': 968,\n",
              " 'j': 969,\n",
              " 'faces': 970,\n",
              " 'return': 971,\n",
              " 'defense': 972,\n",
              " 'alone': 973,\n",
              " 'colbert': 974,\n",
              " 'kid': 975,\n",
              " 'impact': 976,\n",
              " 'toward': 977,\n",
              " 'truly': 978,\n",
              " 'festival': 979,\n",
              " 'paid': 980,\n",
              " 'fan': 981,\n",
              " 'awards': 982,\n",
              " 'murder': 983,\n",
              " 'leadership': 984,\n",
              " 'suspect': 985,\n",
              " 'financial': 986,\n",
              " 'felt': 987,\n",
              " 'tuesday': 988,\n",
              " 'especially': 989,\n",
              " 'equality': 990,\n",
              " 'push': 991,\n",
              " 'tried': 992,\n",
              " 'winter': 993,\n",
              " 'color': 994,\n",
              " 'emotional': 995,\n",
              " 'however': 996,\n",
              " 'simply': 997,\n",
              " 'al': 998,\n",
              " 'fashion': 999,\n",
              " 'ice': 1000,\n",
              " ...}"
            ]
          },
          "metadata": {
            "tags": []
          },
          "execution_count": 46
        }
      ]
    },
    {
      "metadata": {
        "id": "iaYNzWGDGjSw",
        "colab_type": "code",
        "colab": {}
      },
      "cell_type": "code",
      "source": [
        "word_index = tokenizer.word_index\n",
        "nb_words = min(max_features, len(word_index))\n",
        "embedding_matrix = np.random.normal(emb_mean, emb_std, (nb_words, embed_size))\n",
        "for word, i in word_index.items():\n",
        "    if i >= max_features: continue\n",
        "    embedding_vector = embeddings_index.get(word)\n",
        "    if embedding_vector is not None:\n",
        "      embedding_matrix[i] = embedding_vector"
      ],
      "execution_count": 0,
      "outputs": []
    },
    {
      "metadata": {
        "id": "hUMU48ynksfG",
        "colab_type": "text"
      },
      "cell_type": "markdown",
      "source": [
        "Creating a bidirectional LSTM "
      ]
    },
    {
      "metadata": {
        "id": "dx-ezVKgGom5",
        "colab_type": "code",
        "colab": {}
      },
      "cell_type": "code",
      "source": [
        "inp = Input(shape=(maxlen,))\n",
        "x = Embedding(max_features, embed_size, weights=[embedding_matrix])(inp)\n",
        "x = Bidirectional(LSTM(50, return_sequences=True, dropout=0.1, recurrent_dropout=0.2))(x)\n",
        "x = GlobalMaxPool1D()(x)\n",
        "x = Dense(50, activation=\"relu\")(x)\n",
        "x = Dropout(0.2)(x)\n",
        "x = Dense(30, activation=\"sigmoid\")(x)\n",
        "model = Model(inputs=inp, outputs=x)\n",
        "model.compile(loss='binary_crossentropy', optimizer='adam', metrics=['accuracy'])"
      ],
      "execution_count": 0,
      "outputs": []
    },
    {
      "metadata": {
        "id": "gjq9c83TGsu3",
        "colab_type": "code",
        "outputId": "6b1d2a86-79f0-49e0-acf3-f378eb36c6af",
        "colab": {
          "base_uri": "https://localhost:8080/",
          "height": 2026
        }
      },
      "cell_type": "code",
      "source": [
        "model.fit(X_t, y, batch_size=32, epochs=1, validation_split=0.1);"
      ],
      "execution_count": 0,
      "outputs": [
        {
          "output_type": "error",
          "ename": "KeyboardInterrupt",
          "evalue": "ignored",
          "traceback": [
            "\u001b[0;31m---------------------------------------------------------------------------\u001b[0m",
            "\u001b[0;31mKeyError\u001b[0m                                  Traceback (most recent call last)",
            "\u001b[0;32m/usr/local/lib/python3.6/dist-packages/tensorflow/python/framework/ops.py\u001b[0m in \u001b[0;36m_create_op_helper\u001b[0;34m(self, op, compute_device)\u001b[0m\n\u001b[1;32m   3359\u001b[0m     \u001b[0;32mtry\u001b[0m\u001b[0;34m:\u001b[0m\u001b[0;34m\u001b[0m\u001b[0;34m\u001b[0m\u001b[0m\n\u001b[0;32m-> 3360\u001b[0;31m       \u001b[0mkernel_label\u001b[0m \u001b[0;34m=\u001b[0m \u001b[0mself\u001b[0m\u001b[0;34m.\u001b[0m\u001b[0m_op_to_kernel_label_map\u001b[0m\u001b[0;34m[\u001b[0m\u001b[0mop\u001b[0m\u001b[0;34m.\u001b[0m\u001b[0mtype\u001b[0m\u001b[0;34m]\u001b[0m\u001b[0;34m\u001b[0m\u001b[0;34m\u001b[0m\u001b[0m\n\u001b[0m\u001b[1;32m   3361\u001b[0m       op._set_attr(\"_kernel\",  # pylint: disable=protected-access\n",
            "\u001b[0;31mKeyError\u001b[0m: 'Const'",
            "\nDuring handling of the above exception, another exception occurred:\n",
            "\u001b[0;31mKeyboardInterrupt\u001b[0m                         Traceback (most recent call last)",
            "\u001b[0;32m<ipython-input-96-a4bf622b0062>\u001b[0m in \u001b[0;36m<module>\u001b[0;34m()\u001b[0m\n\u001b[0;32m----> 1\u001b[0;31m \u001b[0mmodel\u001b[0m\u001b[0;34m.\u001b[0m\u001b[0mfit\u001b[0m\u001b[0;34m(\u001b[0m\u001b[0mX_t\u001b[0m\u001b[0;34m,\u001b[0m \u001b[0my\u001b[0m\u001b[0;34m,\u001b[0m \u001b[0mbatch_size\u001b[0m\u001b[0;34m=\u001b[0m\u001b[0;36m32\u001b[0m\u001b[0;34m,\u001b[0m \u001b[0mepochs\u001b[0m\u001b[0;34m=\u001b[0m\u001b[0;36m1\u001b[0m\u001b[0;34m,\u001b[0m \u001b[0mvalidation_split\u001b[0m\u001b[0;34m=\u001b[0m\u001b[0;36m0.1\u001b[0m\u001b[0;34m)\u001b[0m\u001b[0;34m;\u001b[0m\u001b[0;34m\u001b[0m\u001b[0;34m\u001b[0m\u001b[0m\n\u001b[0m",
            "\u001b[0;32m/usr/local/lib/python3.6/dist-packages/keras/engine/training.py\u001b[0m in \u001b[0;36mfit\u001b[0;34m(self, x, y, batch_size, epochs, verbose, callbacks, validation_split, validation_data, shuffle, class_weight, sample_weight, initial_epoch, steps_per_epoch, validation_steps, **kwargs)\u001b[0m\n\u001b[1;32m   1008\u001b[0m         \u001b[0;32melse\u001b[0m\u001b[0;34m:\u001b[0m\u001b[0;34m\u001b[0m\u001b[0;34m\u001b[0m\u001b[0m\n\u001b[1;32m   1009\u001b[0m             \u001b[0mins\u001b[0m \u001b[0;34m=\u001b[0m \u001b[0mx\u001b[0m \u001b[0;34m+\u001b[0m \u001b[0my\u001b[0m \u001b[0;34m+\u001b[0m \u001b[0msample_weights\u001b[0m\u001b[0;34m\u001b[0m\u001b[0;34m\u001b[0m\u001b[0m\n\u001b[0;32m-> 1010\u001b[0;31m         \u001b[0mself\u001b[0m\u001b[0;34m.\u001b[0m\u001b[0m_make_train_function\u001b[0m\u001b[0;34m(\u001b[0m\u001b[0;34m)\u001b[0m\u001b[0;34m\u001b[0m\u001b[0;34m\u001b[0m\u001b[0m\n\u001b[0m\u001b[1;32m   1011\u001b[0m         \u001b[0mf\u001b[0m \u001b[0;34m=\u001b[0m \u001b[0mself\u001b[0m\u001b[0;34m.\u001b[0m\u001b[0mtrain_function\u001b[0m\u001b[0;34m\u001b[0m\u001b[0;34m\u001b[0m\u001b[0m\n\u001b[1;32m   1012\u001b[0m \u001b[0;34m\u001b[0m\u001b[0m\n",
            "\u001b[0;32m/usr/local/lib/python3.6/dist-packages/keras/engine/training.py\u001b[0m in \u001b[0;36m_make_train_function\u001b[0;34m(self)\u001b[0m\n\u001b[1;32m    507\u001b[0m                     training_updates = self.optimizer.get_updates(\n\u001b[1;32m    508\u001b[0m                         \u001b[0mparams\u001b[0m\u001b[0;34m=\u001b[0m\u001b[0mself\u001b[0m\u001b[0;34m.\u001b[0m\u001b[0m_collected_trainable_weights\u001b[0m\u001b[0;34m,\u001b[0m\u001b[0;34m\u001b[0m\u001b[0;34m\u001b[0m\u001b[0m\n\u001b[0;32m--> 509\u001b[0;31m                         loss=self.total_loss)\n\u001b[0m\u001b[1;32m    510\u001b[0m                 updates = (self.updates +\n\u001b[1;32m    511\u001b[0m                            \u001b[0mtraining_updates\u001b[0m \u001b[0;34m+\u001b[0m\u001b[0;34m\u001b[0m\u001b[0;34m\u001b[0m\u001b[0m\n",
            "\u001b[0;32m/usr/local/lib/python3.6/dist-packages/keras/legacy/interfaces.py\u001b[0m in \u001b[0;36mwrapper\u001b[0;34m(*args, **kwargs)\u001b[0m\n\u001b[1;32m     89\u001b[0m                 warnings.warn('Update your `' + object_name + '` call to the ' +\n\u001b[1;32m     90\u001b[0m                               'Keras 2 API: ' + signature, stacklevel=2)\n\u001b[0;32m---> 91\u001b[0;31m             \u001b[0;32mreturn\u001b[0m \u001b[0mfunc\u001b[0m\u001b[0;34m(\u001b[0m\u001b[0;34m*\u001b[0m\u001b[0margs\u001b[0m\u001b[0;34m,\u001b[0m \u001b[0;34m**\u001b[0m\u001b[0mkwargs\u001b[0m\u001b[0;34m)\u001b[0m\u001b[0;34m\u001b[0m\u001b[0;34m\u001b[0m\u001b[0m\n\u001b[0m\u001b[1;32m     92\u001b[0m         \u001b[0mwrapper\u001b[0m\u001b[0;34m.\u001b[0m\u001b[0m_original_function\u001b[0m \u001b[0;34m=\u001b[0m \u001b[0mfunc\u001b[0m\u001b[0;34m\u001b[0m\u001b[0;34m\u001b[0m\u001b[0m\n\u001b[1;32m     93\u001b[0m         \u001b[0;32mreturn\u001b[0m \u001b[0mwrapper\u001b[0m\u001b[0;34m\u001b[0m\u001b[0;34m\u001b[0m\u001b[0m\n",
            "\u001b[0;32m/usr/local/lib/python3.6/dist-packages/keras/optimizers.py\u001b[0m in \u001b[0;36mget_updates\u001b[0;34m(self, loss, params)\u001b[0m\n\u001b[1;32m    495\u001b[0m         \u001b[0;32mfor\u001b[0m \u001b[0mp\u001b[0m\u001b[0;34m,\u001b[0m \u001b[0mg\u001b[0m\u001b[0;34m,\u001b[0m \u001b[0mm\u001b[0m\u001b[0;34m,\u001b[0m \u001b[0mv\u001b[0m\u001b[0;34m,\u001b[0m \u001b[0mvhat\u001b[0m \u001b[0;32min\u001b[0m \u001b[0mzip\u001b[0m\u001b[0;34m(\u001b[0m\u001b[0mparams\u001b[0m\u001b[0;34m,\u001b[0m \u001b[0mgrads\u001b[0m\u001b[0;34m,\u001b[0m \u001b[0mms\u001b[0m\u001b[0;34m,\u001b[0m \u001b[0mvs\u001b[0m\u001b[0;34m,\u001b[0m \u001b[0mvhats\u001b[0m\u001b[0;34m)\u001b[0m\u001b[0;34m:\u001b[0m\u001b[0;34m\u001b[0m\u001b[0;34m\u001b[0m\u001b[0m\n\u001b[1;32m    496\u001b[0m             \u001b[0mm_t\u001b[0m \u001b[0;34m=\u001b[0m \u001b[0;34m(\u001b[0m\u001b[0mself\u001b[0m\u001b[0;34m.\u001b[0m\u001b[0mbeta_1\u001b[0m \u001b[0;34m*\u001b[0m \u001b[0mm\u001b[0m\u001b[0;34m)\u001b[0m \u001b[0;34m+\u001b[0m \u001b[0;34m(\u001b[0m\u001b[0;36m1.\u001b[0m \u001b[0;34m-\u001b[0m \u001b[0mself\u001b[0m\u001b[0;34m.\u001b[0m\u001b[0mbeta_1\u001b[0m\u001b[0;34m)\u001b[0m \u001b[0;34m*\u001b[0m \u001b[0mg\u001b[0m\u001b[0;34m\u001b[0m\u001b[0;34m\u001b[0m\u001b[0m\n\u001b[0;32m--> 497\u001b[0;31m             \u001b[0mv_t\u001b[0m \u001b[0;34m=\u001b[0m \u001b[0;34m(\u001b[0m\u001b[0mself\u001b[0m\u001b[0;34m.\u001b[0m\u001b[0mbeta_2\u001b[0m \u001b[0;34m*\u001b[0m \u001b[0mv\u001b[0m\u001b[0;34m)\u001b[0m \u001b[0;34m+\u001b[0m \u001b[0;34m(\u001b[0m\u001b[0;36m1.\u001b[0m \u001b[0;34m-\u001b[0m \u001b[0mself\u001b[0m\u001b[0;34m.\u001b[0m\u001b[0mbeta_2\u001b[0m\u001b[0;34m)\u001b[0m \u001b[0;34m*\u001b[0m \u001b[0mK\u001b[0m\u001b[0;34m.\u001b[0m\u001b[0msquare\u001b[0m\u001b[0;34m(\u001b[0m\u001b[0mg\u001b[0m\u001b[0;34m)\u001b[0m\u001b[0;34m\u001b[0m\u001b[0;34m\u001b[0m\u001b[0m\n\u001b[0m\u001b[1;32m    498\u001b[0m             \u001b[0;32mif\u001b[0m \u001b[0mself\u001b[0m\u001b[0;34m.\u001b[0m\u001b[0mamsgrad\u001b[0m\u001b[0;34m:\u001b[0m\u001b[0;34m\u001b[0m\u001b[0;34m\u001b[0m\u001b[0m\n\u001b[1;32m    499\u001b[0m                 \u001b[0mvhat_t\u001b[0m \u001b[0;34m=\u001b[0m \u001b[0mK\u001b[0m\u001b[0;34m.\u001b[0m\u001b[0mmaximum\u001b[0m\u001b[0;34m(\u001b[0m\u001b[0mvhat\u001b[0m\u001b[0;34m,\u001b[0m \u001b[0mv_t\u001b[0m\u001b[0;34m)\u001b[0m\u001b[0;34m\u001b[0m\u001b[0;34m\u001b[0m\u001b[0m\n",
            "\u001b[0;32m/usr/local/lib/python3.6/dist-packages/tensorflow/python/ops/variables.py\u001b[0m in \u001b[0;36m_run_op\u001b[0;34m(a, *args)\u001b[0m\n\u001b[1;32m    854\u001b[0m     \u001b[0;32mdef\u001b[0m \u001b[0m_run_op\u001b[0m\u001b[0;34m(\u001b[0m\u001b[0ma\u001b[0m\u001b[0;34m,\u001b[0m \u001b[0;34m*\u001b[0m\u001b[0margs\u001b[0m\u001b[0;34m)\u001b[0m\u001b[0;34m:\u001b[0m\u001b[0;34m\u001b[0m\u001b[0;34m\u001b[0m\u001b[0m\n\u001b[1;32m    855\u001b[0m       \u001b[0;31m# pylint: disable=protected-access\u001b[0m\u001b[0;34m\u001b[0m\u001b[0;34m\u001b[0m\u001b[0;34m\u001b[0m\u001b[0m\n\u001b[0;32m--> 856\u001b[0;31m       \u001b[0;32mreturn\u001b[0m \u001b[0mgetattr\u001b[0m\u001b[0;34m(\u001b[0m\u001b[0mops\u001b[0m\u001b[0;34m.\u001b[0m\u001b[0mTensor\u001b[0m\u001b[0;34m,\u001b[0m \u001b[0moperator\u001b[0m\u001b[0;34m)\u001b[0m\u001b[0;34m(\u001b[0m\u001b[0ma\u001b[0m\u001b[0;34m.\u001b[0m\u001b[0m_AsTensor\u001b[0m\u001b[0;34m(\u001b[0m\u001b[0;34m)\u001b[0m\u001b[0;34m,\u001b[0m \u001b[0;34m*\u001b[0m\u001b[0margs\u001b[0m\u001b[0;34m)\u001b[0m\u001b[0;34m\u001b[0m\u001b[0;34m\u001b[0m\u001b[0m\n\u001b[0m\u001b[1;32m    857\u001b[0m     \u001b[0;31m# Propagate __doc__ to wrapper\u001b[0m\u001b[0;34m\u001b[0m\u001b[0;34m\u001b[0m\u001b[0;34m\u001b[0m\u001b[0m\n\u001b[1;32m    858\u001b[0m     \u001b[0;32mtry\u001b[0m\u001b[0;34m:\u001b[0m\u001b[0;34m\u001b[0m\u001b[0;34m\u001b[0m\u001b[0m\n",
            "\u001b[0;32m/usr/local/lib/python3.6/dist-packages/tensorflow/python/ops/math_ops.py\u001b[0m in \u001b[0;36mr_binary_op_wrapper\u001b[0;34m(y, x)\u001b[0m\n\u001b[1;32m    891\u001b[0m   \u001b[0;32mdef\u001b[0m \u001b[0mr_binary_op_wrapper\u001b[0m\u001b[0;34m(\u001b[0m\u001b[0my\u001b[0m\u001b[0;34m,\u001b[0m \u001b[0mx\u001b[0m\u001b[0;34m)\u001b[0m\u001b[0;34m:\u001b[0m\u001b[0;34m\u001b[0m\u001b[0;34m\u001b[0m\u001b[0m\n\u001b[1;32m    892\u001b[0m     \u001b[0;32mwith\u001b[0m \u001b[0mops\u001b[0m\u001b[0;34m.\u001b[0m\u001b[0mname_scope\u001b[0m\u001b[0;34m(\u001b[0m\u001b[0;32mNone\u001b[0m\u001b[0;34m,\u001b[0m \u001b[0mop_name\u001b[0m\u001b[0;34m,\u001b[0m \u001b[0;34m[\u001b[0m\u001b[0mx\u001b[0m\u001b[0;34m,\u001b[0m \u001b[0my\u001b[0m\u001b[0;34m]\u001b[0m\u001b[0;34m)\u001b[0m \u001b[0;32mas\u001b[0m \u001b[0mname\u001b[0m\u001b[0;34m:\u001b[0m\u001b[0;34m\u001b[0m\u001b[0;34m\u001b[0m\u001b[0m\n\u001b[0;32m--> 893\u001b[0;31m       \u001b[0mx\u001b[0m \u001b[0;34m=\u001b[0m \u001b[0mops\u001b[0m\u001b[0;34m.\u001b[0m\u001b[0mconvert_to_tensor\u001b[0m\u001b[0;34m(\u001b[0m\u001b[0mx\u001b[0m\u001b[0;34m,\u001b[0m \u001b[0mdtype\u001b[0m\u001b[0;34m=\u001b[0m\u001b[0my\u001b[0m\u001b[0;34m.\u001b[0m\u001b[0mdtype\u001b[0m\u001b[0;34m.\u001b[0m\u001b[0mbase_dtype\u001b[0m\u001b[0;34m,\u001b[0m \u001b[0mname\u001b[0m\u001b[0;34m=\u001b[0m\u001b[0;34m\"x\"\u001b[0m\u001b[0;34m)\u001b[0m\u001b[0;34m\u001b[0m\u001b[0;34m\u001b[0m\u001b[0m\n\u001b[0m\u001b[1;32m    894\u001b[0m       \u001b[0;32mreturn\u001b[0m \u001b[0mfunc\u001b[0m\u001b[0;34m(\u001b[0m\u001b[0mx\u001b[0m\u001b[0;34m,\u001b[0m \u001b[0my\u001b[0m\u001b[0;34m,\u001b[0m \u001b[0mname\u001b[0m\u001b[0;34m=\u001b[0m\u001b[0mname\u001b[0m\u001b[0;34m)\u001b[0m\u001b[0;34m\u001b[0m\u001b[0;34m\u001b[0m\u001b[0m\n\u001b[1;32m    895\u001b[0m \u001b[0;34m\u001b[0m\u001b[0m\n",
            "\u001b[0;32m/usr/local/lib/python3.6/dist-packages/tensorflow/python/framework/ops.py\u001b[0m in \u001b[0;36mconvert_to_tensor\u001b[0;34m(value, dtype, name, preferred_dtype)\u001b[0m\n\u001b[1;32m   1048\u001b[0m       \u001b[0mname\u001b[0m\u001b[0;34m=\u001b[0m\u001b[0mname\u001b[0m\u001b[0;34m,\u001b[0m\u001b[0;34m\u001b[0m\u001b[0;34m\u001b[0m\u001b[0m\n\u001b[1;32m   1049\u001b[0m       \u001b[0mpreferred_dtype\u001b[0m\u001b[0;34m=\u001b[0m\u001b[0mpreferred_dtype\u001b[0m\u001b[0;34m,\u001b[0m\u001b[0;34m\u001b[0m\u001b[0;34m\u001b[0m\u001b[0m\n\u001b[0;32m-> 1050\u001b[0;31m       as_ref=False)\n\u001b[0m\u001b[1;32m   1051\u001b[0m \u001b[0;34m\u001b[0m\u001b[0m\n\u001b[1;32m   1052\u001b[0m \u001b[0;34m\u001b[0m\u001b[0m\n",
            "\u001b[0;32m/usr/local/lib/python3.6/dist-packages/tensorflow/python/framework/ops.py\u001b[0m in \u001b[0;36minternal_convert_to_tensor\u001b[0;34m(value, dtype, name, as_ref, preferred_dtype, ctx)\u001b[0m\n\u001b[1;32m   1144\u001b[0m \u001b[0;34m\u001b[0m\u001b[0m\n\u001b[1;32m   1145\u001b[0m     \u001b[0;32mif\u001b[0m \u001b[0mret\u001b[0m \u001b[0;32mis\u001b[0m \u001b[0;32mNone\u001b[0m\u001b[0;34m:\u001b[0m\u001b[0;34m\u001b[0m\u001b[0;34m\u001b[0m\u001b[0m\n\u001b[0;32m-> 1146\u001b[0;31m       \u001b[0mret\u001b[0m \u001b[0;34m=\u001b[0m \u001b[0mconversion_func\u001b[0m\u001b[0;34m(\u001b[0m\u001b[0mvalue\u001b[0m\u001b[0;34m,\u001b[0m \u001b[0mdtype\u001b[0m\u001b[0;34m=\u001b[0m\u001b[0mdtype\u001b[0m\u001b[0;34m,\u001b[0m \u001b[0mname\u001b[0m\u001b[0;34m=\u001b[0m\u001b[0mname\u001b[0m\u001b[0;34m,\u001b[0m \u001b[0mas_ref\u001b[0m\u001b[0;34m=\u001b[0m\u001b[0mas_ref\u001b[0m\u001b[0;34m)\u001b[0m\u001b[0;34m\u001b[0m\u001b[0;34m\u001b[0m\u001b[0m\n\u001b[0m\u001b[1;32m   1147\u001b[0m \u001b[0;34m\u001b[0m\u001b[0m\n\u001b[1;32m   1148\u001b[0m     \u001b[0;32mif\u001b[0m \u001b[0mret\u001b[0m \u001b[0;32mis\u001b[0m \u001b[0mNotImplemented\u001b[0m\u001b[0;34m:\u001b[0m\u001b[0;34m\u001b[0m\u001b[0;34m\u001b[0m\u001b[0m\n",
            "\u001b[0;32m/usr/local/lib/python3.6/dist-packages/tensorflow/python/framework/constant_op.py\u001b[0m in \u001b[0;36m_constant_tensor_conversion_function\u001b[0;34m(v, dtype, name, as_ref)\u001b[0m\n\u001b[1;32m    227\u001b[0m                                          as_ref=False):\n\u001b[1;32m    228\u001b[0m   \u001b[0m_\u001b[0m \u001b[0;34m=\u001b[0m \u001b[0mas_ref\u001b[0m\u001b[0;34m\u001b[0m\u001b[0;34m\u001b[0m\u001b[0m\n\u001b[0;32m--> 229\u001b[0;31m   \u001b[0;32mreturn\u001b[0m \u001b[0mconstant\u001b[0m\u001b[0;34m(\u001b[0m\u001b[0mv\u001b[0m\u001b[0;34m,\u001b[0m \u001b[0mdtype\u001b[0m\u001b[0;34m=\u001b[0m\u001b[0mdtype\u001b[0m\u001b[0;34m,\u001b[0m \u001b[0mname\u001b[0m\u001b[0;34m=\u001b[0m\u001b[0mname\u001b[0m\u001b[0;34m)\u001b[0m\u001b[0;34m\u001b[0m\u001b[0;34m\u001b[0m\u001b[0m\n\u001b[0m\u001b[1;32m    230\u001b[0m \u001b[0;34m\u001b[0m\u001b[0m\n\u001b[1;32m    231\u001b[0m \u001b[0;34m\u001b[0m\u001b[0m\n",
            "\u001b[0;32m/usr/local/lib/python3.6/dist-packages/tensorflow/python/framework/constant_op.py\u001b[0m in \u001b[0;36mconstant\u001b[0;34m(value, dtype, shape, name, verify_shape)\u001b[0m\n\u001b[1;32m    212\u001b[0m       attrs={\"value\": tensor_value,\n\u001b[1;32m    213\u001b[0m              \"dtype\": dtype_value},\n\u001b[0;32m--> 214\u001b[0;31m       name=name).outputs[0]\n\u001b[0m\u001b[1;32m    215\u001b[0m   \u001b[0;32mreturn\u001b[0m \u001b[0mconst_tensor\u001b[0m\u001b[0;34m\u001b[0m\u001b[0;34m\u001b[0m\u001b[0m\n\u001b[1;32m    216\u001b[0m \u001b[0;34m\u001b[0m\u001b[0m\n",
            "\u001b[0;32m/usr/local/lib/python3.6/dist-packages/tensorflow/python/util/deprecation.py\u001b[0m in \u001b[0;36mnew_func\u001b[0;34m(*args, **kwargs)\u001b[0m\n\u001b[1;32m    486\u001b[0m                 \u001b[0;34m'in a future version'\u001b[0m \u001b[0;32mif\u001b[0m \u001b[0mdate\u001b[0m \u001b[0;32mis\u001b[0m \u001b[0;32mNone\u001b[0m \u001b[0;32melse\u001b[0m \u001b[0;34m(\u001b[0m\u001b[0;34m'after %s'\u001b[0m \u001b[0;34m%\u001b[0m \u001b[0mdate\u001b[0m\u001b[0;34m)\u001b[0m\u001b[0;34m,\u001b[0m\u001b[0;34m\u001b[0m\u001b[0;34m\u001b[0m\u001b[0m\n\u001b[1;32m    487\u001b[0m                 instructions)\n\u001b[0;32m--> 488\u001b[0;31m       \u001b[0;32mreturn\u001b[0m \u001b[0mfunc\u001b[0m\u001b[0;34m(\u001b[0m\u001b[0;34m*\u001b[0m\u001b[0margs\u001b[0m\u001b[0;34m,\u001b[0m \u001b[0;34m**\u001b[0m\u001b[0mkwargs\u001b[0m\u001b[0;34m)\u001b[0m\u001b[0;34m\u001b[0m\u001b[0;34m\u001b[0m\u001b[0m\n\u001b[0m\u001b[1;32m    489\u001b[0m     return tf_decorator.make_decorator(func, new_func, 'deprecated',\n\u001b[1;32m    490\u001b[0m                                        _add_deprecated_arg_notice_to_docstring(\n",
            "\u001b[0;32m/usr/local/lib/python3.6/dist-packages/tensorflow/python/framework/ops.py\u001b[0m in \u001b[0;36mcreate_op\u001b[0;34m(***failed resolving arguments***)\u001b[0m\n\u001b[1;32m   3273\u001b[0m           \u001b[0moriginal_op\u001b[0m\u001b[0;34m=\u001b[0m\u001b[0mself\u001b[0m\u001b[0;34m.\u001b[0m\u001b[0m_default_original_op\u001b[0m\u001b[0;34m,\u001b[0m\u001b[0;34m\u001b[0m\u001b[0;34m\u001b[0m\u001b[0m\n\u001b[1;32m   3274\u001b[0m           op_def=op_def)\n\u001b[0;32m-> 3275\u001b[0;31m       \u001b[0mself\u001b[0m\u001b[0;34m.\u001b[0m\u001b[0m_create_op_helper\u001b[0m\u001b[0;34m(\u001b[0m\u001b[0mret\u001b[0m\u001b[0;34m,\u001b[0m \u001b[0mcompute_device\u001b[0m\u001b[0;34m=\u001b[0m\u001b[0mcompute_device\u001b[0m\u001b[0;34m)\u001b[0m\u001b[0;34m\u001b[0m\u001b[0;34m\u001b[0m\u001b[0m\n\u001b[0m\u001b[1;32m   3276\u001b[0m     \u001b[0;32mreturn\u001b[0m \u001b[0mret\u001b[0m\u001b[0;34m\u001b[0m\u001b[0;34m\u001b[0m\u001b[0m\n\u001b[1;32m   3277\u001b[0m \u001b[0;34m\u001b[0m\u001b[0m\n",
            "\u001b[0;32m/usr/local/lib/python3.6/dist-packages/tensorflow/python/framework/ops.py\u001b[0m in \u001b[0;36m_create_op_helper\u001b[0;34m(self, op, compute_device)\u001b[0m\n\u001b[1;32m   3361\u001b[0m       op._set_attr(\"_kernel\",  # pylint: disable=protected-access\n\u001b[1;32m   3362\u001b[0m                    attr_value_pb2.AttrValue(s=compat.as_bytes(kernel_label)))\n\u001b[0;32m-> 3363\u001b[0;31m     \u001b[0;32mexcept\u001b[0m \u001b[0mKeyError\u001b[0m\u001b[0;34m:\u001b[0m\u001b[0;34m\u001b[0m\u001b[0;34m\u001b[0m\u001b[0m\n\u001b[0m\u001b[1;32m   3364\u001b[0m       \u001b[0;32mpass\u001b[0m\u001b[0;34m\u001b[0m\u001b[0;34m\u001b[0m\u001b[0m\n\u001b[1;32m   3365\u001b[0m \u001b[0;34m\u001b[0m\u001b[0m\n",
            "\u001b[0;31mKeyboardInterrupt\u001b[0m: "
          ]
        }
      ]
    },
    {
      "metadata": {
        "id": "sREGcbbnGx3N",
        "colab_type": "code",
        "colab": {}
      },
      "cell_type": "code",
      "source": [
        ""
      ],
      "execution_count": 0,
      "outputs": []
    }
  ]
}